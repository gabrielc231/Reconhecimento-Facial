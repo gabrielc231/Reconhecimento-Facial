{
  "cells": [
    {
      "cell_type": "markdown",
      "metadata": {
        "id": "40b90843"
      },
      "source": [
        "<img src=\"http://meusite.mackenzie.br/rogerio/mackenzie_logo/UPM.2_horizontal_vermelho.jpg\"  width=300, align=\"right\">\n",
        "<br>\n",
        "<br>\n",
        "<br>\n",
        "<br>\n",
        "<br>\n",
        "\n"
      ]
    },
    {
      "cell_type": "code",
      "execution_count": 25,
      "metadata": {
        "cellView": "form",
        "id": "rYx9D4GZA5o9"
      },
      "outputs": [],
      "source": [
        "#@title **Identificação do Grupo**\n",
        "\n",
        "#@markdown Integrantes do Grupo, nome completo em orgem alfabética (*informe \\<RA\\>,\\<nome\\>*)\n",
        "Aluno1 = '10403025, Gabriel Gonzaga Chung' #@param {type:\"string\"}\n",
        "Aluno2 = '10403462, Igor Benites Moura' #@param {type:\"string\"}\n",
        "Aluno3 = ' 10401873, Rodrigo Machado de Assis Oliveira de Lima' #@param {type:\"string\"}\n",
        "Aluno4 = 'None' #@param {type:\"string\"}\n",
        "Aluno5 = 'None' #@param {type:\"string\"}\n",
        "\n"
      ]
    },
    {
      "cell_type": "code",
      "execution_count": 6,
      "metadata": {
        "cellView": "form",
        "id": "-MbC50IHTmh3"
      },
      "outputs": [],
      "source": [
        "#@title Assinale aqui a sua opção de Projeto\n",
        "Projeto = \"IA Aplicada a Imagens: Uso de Modelos de Redes Neurais\" #@param [\"IA Aplicada a Imagens: Uso de Modelos de Redes Neurais\", \"IA Aplicada a Documentos: Uso de Grandes Modelos de Linguagem Abertos\"]\n",
        "\n",
        "\n"
      ]
    },
    {
      "cell_type": "markdown",
      "metadata": {
        "id": "yxYbSf6mVM7y"
      },
      "source": [
        "# **Resumo**\n",
        "\n",
        "Apresente um \"abstract\" do seu projeto.\n",
        "\n",
        "1. Objetivo do projeto\n",
        "2. Fontes dos dados e dados originais (coletados)\n",
        "3. Ferramentas/pacotes de IA a serem utilizados para a construção da solução\n",
        "4. Um prévia dos resultados."
      ]
    },
    {
      "cell_type": "markdown",
      "metadata": {
        "id": "G_46a-j8m6lB"
      },
      "source": [
        "<p align=\"justify\"> O objetivo deste projeto é desenvolver um sistema capaz de classificar expressões faciais humanas em quatro categorias emocionais básicas: raiva, felicidade, tristeza e surpresa. Para isso, foi construída e treinada uma rede neural convolucional (CNN) utilizando imagens faciais em tons de cinza com resolução de 48x48 pixels. Os dados utilizados foram oriundos de fontes públicas como FER-2013 de M. Sambare e  e de coletas próprias, sendo organizados em diretórios por classe. As imagens passaram por técnicas de data augmentation para aumentar a variabilidade e robustez do treinamento. A solução foi implementada com auxílio das bibliotecas TensorFlow, Keras e NumPy, e a aplicação final foi integrada a uma interface interativa desenvolvida em Streamlit, permitindo que usuários submetam imagens e obtenham a predição da emoção predominante. Como resultado, o modelo alcançou uma acurácia de aproximadamente 74% na base de validação, demonstrando bom desempenho na tarefa de reconhecimento facial de emoções"
      ]
    },
    {
      "cell_type": "markdown",
      "metadata": {
        "id": "ctroSu6jNABS"
      },
      "source": [
        "# **Apresentação dos dados**"
      ]
    },
    {
      "cell_type": "markdown",
      "metadata": {
        "id": "InjQe3Qlx06r"
      },
      "source": [
        "<div align=\"justify\">\n",
        "\n",
        "O conjunto de dados utilizado no projeto é composto por imagens de expressões faciais organizadas em quatro classes principais: `angry` (raiva), `happy` (feliz), `sad` (triste) e `surprise` (surpresa). As imagens foram utilizadas no formato em **tons de cinza** com **resolução 48x48 pixels**, visando compatibilidade com a arquitetura da CNN e menor custo computacional.\n",
        "\n",
        "As imagens foram coletadas a partir do dataset **FER-2013**, **affectnet** e complementadas com coletas próprias. Todas as imagens foram organizadas em pastas no formato esperado por `ImageDataGenerator` da biblioteca Keras, seguindo a estrutura:\n",
        "\n"
      ]
    },
    {
      "cell_type": "markdown",
      "metadata": {
        "id": "BJi4uDFSx8iv"
      },
      "source": [
        "### Link de referência:\n",
        "- FER-2013: [https://www.kaggle.com/datasets/msambare/fer2013](https://www.kaggle.com/datasets/msambare/fer2013)\n",
        "- affectnet: [https://www.kaggle.com/datasets/mstjebashazida/affectnet](https://www.kaggle.com/datasets/mstjebashazida/affectnet)\n",
        "\n",
        "---\n",
        "\n",
        "### Exemplos de amostras:\n",
        "\n",
        "| Angry | Happy | Sad | Surprise |\n",
        "|-------|-------|-----|----------|\n",
        "| ![angry](data/test/angry/PrivateTest_4129990.jpg) | ![happy](data/test/happy/PublicTest_97661985.jpg) | ![sad](data/test/sad/PrivateTest_552501.jpg) | ![surprise](data/test/surprise/PrivateTest_1673508.jpg) |\n",
        "\n",
        "*(Imagens ilustrativas)*\n",
        "\n",
        "---\n",
        "\n",
        "### Distribuição dos dados (treinamento):\n",
        "\n",
        "| Classe     | Quantidade |\n",
        "|------------|------------|\n",
        "| Happy      | 9555       |\n",
        "| Sad        | 7921       |\n",
        "| Angry      | 5495       |\n",
        "| Surprise   | 5290       |\n",
        "| **Total**  | **28.261** |\n",
        "\n",
        "O dataset apresenta certo desbalanceamento, que foi corrigido no treinamento por meio da atribuição de **pesos por classe** com base na proporção de dados.\n",
        "\n",
        "</div>"
      ]
    },
    {
      "cell_type": "markdown",
      "metadata": {
        "id": "rUPW64ESNJgR"
      },
      "source": [
        "# Abaixo algumas seções de exemplo\n",
        "\n",
        "> Pode haver mais, dependendo da sua aplicação. Para cada seção faça comentários explicando a tarefa e comentando/sumarizando os resultados."
      ]
    },
    {
      "cell_type": "markdown",
      "metadata": {
        "id": "F37jW1uUQ2FU"
      },
      "source": [
        "# **Importações de Pacotes**"
      ]
    },
    {
      "cell_type": "markdown",
      "metadata": {
        "id": "hwGqTfjfQ-Yr"
      },
      "source": [
        "Foram importados os pacotes necessários para a criação do modelo, neste caso: \\\n",
        "\\\n",
        "**Tensorflow**: Framework de aprendizado de máquina. \\\n",
        "**Keras**: API de alto nível para construir e treinar modelos. \\\n",
        "**Numpy**: Computação numérica eficiente com arrays.\\\n",
        "**Matplotlib**: Criação de gráficos para visualização.\\\n",
        "**Pandas**: Uma ferramenta de análise e manipulação de dados de código aberto, rápida, poderosa, flexível e fácil de usar. \\\n",
        "**Scikit-learn**: Ferramentas simples e eficientes para análise preditiva de dados."
      ]
    },
    {
      "cell_type": "code",
      "execution_count": 7,
      "metadata": {
        "colab": {
          "base_uri": "https://localhost:8080/"
        },
        "id": "zAHhnfFN2s3g",
        "outputId": "a1aa12f8-97b0-461b-b7c6-136b0c58b8df"
      },
      "outputs": [
        {
          "name": "stdout",
          "output_type": "stream",
          "text": [
            "Requirement already satisfied: keras in d:\\tensorflow-env\\lib\\site-packages (2.10.0)\n",
            "Note: you may need to restart the kernel to use updated packages.\n"
          ]
        }
      ],
      "source": [
        "%pip install keras"
      ]
    },
    {
      "cell_type": "code",
      "execution_count": 27,
      "metadata": {
        "id": "Lvntdd69Q8l9"
      },
      "outputs": [],
      "source": [
        "import tensorflow as tf\n",
        "from tensorflow import keras\n",
        "from keras.models import Sequential\n",
        "from keras.layers import Conv2D, MaxPooling2D, Dropout, Flatten, Dense, BatchNormalization\n",
        "from tensorflow.keras.preprocessing.image import ImageDataGenerator\n",
        "from keras.callbacks import EarlyStopping, ModelCheckpoint\n",
        "import matplotlib.pyplot as plt\n",
        "import numpy as np\n",
        "import os\n",
        "from sklearn.metrics import confusion_matrix, ConfusionMatrixDisplay"
      ]
    },
    {
      "cell_type": "markdown",
      "metadata": {
        "id": "ouo-h-eyUaTi"
      },
      "source": [
        "# **Configuração de GPU**"
      ]
    },
    {
      "cell_type": "markdown",
      "metadata": {
        "id": "ViwJshZ3UlUo"
      },
      "source": [
        "Testa para ver se alguma **GPU** foi identificada, se sim configura crescimento de memória."
      ]
    },
    {
      "cell_type": "code",
      "execution_count": 9,
      "metadata": {
        "id": "fQ8W8NCdUjxK"
      },
      "outputs": [],
      "source": [
        "# === GPU Configuration ===\n",
        "gpus = tf.config.list_physical_devices('GPU')\n",
        "if gpus:\n",
        "    try:\n",
        "        for gpu in gpus:\n",
        "            tf.config.experimental.set_memory_growth(gpu, True)\n",
        "    except RuntimeError as e:\n",
        "        print(e)"
      ]
    },
    {
      "cell_type": "markdown",
      "metadata": {
        "id": "GDzwn_5AMZ52"
      },
      "source": [
        "# **Preparação e transformação dos dados**\n",
        "\n"
      ]
    },
    {
      "cell_type": "markdown",
      "metadata": {
        "id": "cx80JIIFs9dC"
      },
      "source": [
        "Nesta etapa, as imagens faciais foram organizadas em pastas separadas por classe (`angry`, `happy`, `sad`, `surprise`).\n"
      ]
    },
    {
      "cell_type": "code",
      "execution_count": 10,
      "metadata": {
        "id": "QS-dKYJxVJva"
      },
      "outputs": [],
      "source": [
        "# === Classes ===\n",
        "classes_usadas = ['angry', 'happy', 'sad', 'surprise']"
      ]
    },
    {
      "cell_type": "markdown",
      "metadata": {
        "id": "qwnxOfHkVSIO"
      },
      "source": [
        "Foram definidos os diretórios das dados de **treino** e **validação**."
      ]
    },
    {
      "cell_type": "code",
      "execution_count": 11,
      "metadata": {
        "id": "OjK8q5nRVaE3"
      },
      "outputs": [],
      "source": [
        "# === Diretórios ===\n",
        "train_dir = 'data/train'\n",
        "val_dir = 'data/test'"
      ]
    },
    {
      "cell_type": "markdown",
      "metadata": {
        "id": "QaxpYB70WmWY"
      },
      "source": [
        "Foi definido pesos para cada classe (**class weight**), visto que os dados estão desbalanceados entre cada classe <br> (tem mais dados de **\"happy\"** que **\"surprise\"**, por exemplo)."
      ]
    },
    {
      "cell_type": "code",
      "execution_count": 12,
      "metadata": {
        "id": "rMkOiU9TXeJQ"
      },
      "outputs": [],
      "source": [
        "# === Class Weights ===\n",
        "n_classes = len(classes_usadas)\n",
        "n_data = [0] * n_classes\n",
        "n_data[0] = 5495 # angry\n",
        "n_data[1] = 9555 # happy\n",
        "n_data[2] = 7921 # sad\n",
        "n_data[3] = 5290 # surprise\n",
        "\n",
        "total_data = sum(n_data)\n",
        "class_weights = {\n",
        "    i: total_data / (n_data[i] * n_classes) for i in range(n_classes)\n",
        "}"
      ]
    },
    {
      "cell_type": "markdown",
      "metadata": {
        "id": "t9m-x8iBYAmG"
      },
      "source": [
        "Foi aplicado **data augmentation** com operações como rotação, zoom, translação e espelhamento horizontal para **aumentar a variabilidade** do conjunto de treinamento e **reduzir o overfitting**. Além disso, foram calculados **pesos por classe** com base no número de exemplos por emoção, equilibrando o aprendizado da rede em um cenário desbalanceado."
      ]
    },
    {
      "cell_type": "code",
      "execution_count": 13,
      "metadata": {
        "id": "zGc0mB0JX8s3"
      },
      "outputs": [],
      "source": [
        "# === Data Augmentation ===\n",
        "datagen = ImageDataGenerator(\n",
        "    rescale=1./255,\n",
        "    rotation_range=15,\n",
        "    zoom_range=0.15,\n",
        "    width_shift_range=0.1,\n",
        "    height_shift_range=0.1,\n",
        "    shear_range=0.1,\n",
        "    horizontal_flip=True,\n",
        "    fill_mode='nearest'\n",
        ")"
      ]
    },
    {
      "cell_type": "markdown",
      "metadata": {
        "id": "MIZHhodwVIAu"
      },
      "source": [
        "As imagens foram utilizadas em tons de cinza com dimensão de **48x48 pixels**.\n"
      ]
    },
    {
      "cell_type": "code",
      "execution_count": 14,
      "metadata": {
        "colab": {
          "base_uri": "https://localhost:8080/"
        },
        "id": "AgDBlS-JVP5s",
        "outputId": "92e7fd98-2e1b-4b3c-e169-8b712b7bc637"
      },
      "outputs": [
        {
          "name": "stdout",
          "output_type": "stream",
          "text": [
            "Found 28261 images belonging to 4 classes.\n",
            "Found 4810 images belonging to 4 classes.\n"
          ]
        }
      ],
      "source": [
        "# === Dados de Treino ===\n",
        "train_data = datagen.flow_from_directory(\n",
        "    train_dir,\n",
        "    target_size=(48, 48),\n",
        "    color_mode='grayscale',\n",
        "    class_mode='categorical',\n",
        "    classes=classes_usadas,\n",
        "    batch_size=64,\n",
        "    shuffle=True\n",
        ")\n",
        "\n",
        "# === Dados de Validação ===\n",
        "val_data = datagen.flow_from_directory(\n",
        "    val_dir,\n",
        "    target_size=(48, 48),\n",
        "    color_mode='grayscale',\n",
        "    class_mode='categorical',\n",
        "    classes=classes_usadas,\n",
        "    batch_size=64,\n",
        "    shuffle=False\n",
        ")"
      ]
    },
    {
      "cell_type": "markdown",
      "metadata": {
        "id": "oF3l7tdWtNZZ"
      },
      "source": [
        "### Resumo dos dados:\n",
        "\n",
        "| Classe     | Quantidade |\n",
        "|------------|------------|\n",
        "| Happy      | 9555       |\n",
        "| Sad        | 7921       |\n",
        "| Angry      | 5495       |\n",
        "| Surprise   | 5290       |\n",
        "| **Total**  | **28.261** |"
      ]
    },
    {
      "cell_type": "markdown",
      "metadata": {
        "id": "6kk5JHCLYkMk"
      },
      "source": [
        "# **Modelo Implementado**"
      ]
    },
    {
      "cell_type": "markdown",
      "metadata": {},
      "source": [
        "Implementação do Modelo de rede convolucional do Keras."
      ]
    },
    {
      "cell_type": "code",
      "execution_count": 15,
      "metadata": {
        "id": "Y32TLlaHvpWH"
      },
      "outputs": [],
      "source": [
        "\n",
        "# === Modelo CNN ===\n",
        "model = Sequential([\n",
        "    Conv2D(32, (3,3), activation='relu', padding='same', input_shape=(48, 48, 1)),\n",
        "    BatchNormalization(),\n",
        "    MaxPooling2D(2,2),\n",
        "    Dropout(0.15),\n",
        "\n",
        "    Conv2D(64, (3,3), activation='relu', padding='same'),\n",
        "    BatchNormalization(),\n",
        "    MaxPooling2D(2,2),\n",
        "    Dropout(0.2),\n",
        "\n",
        "    Conv2D(128, (3,3), activation='relu', padding='same'),\n",
        "    BatchNormalization(),\n",
        "    MaxPooling2D(2,2),\n",
        "    Dropout(0.25),\n",
        "\n",
        "    Conv2D(256, (3,3), activation='relu', padding='same'),\n",
        "    BatchNormalization(),\n",
        "    MaxPooling2D(2,2),\n",
        "    Dropout(0.3),\n",
        "\n",
        "    Flatten(),\n",
        "    Dense(512, activation='relu'),\n",
        "    Dropout(0.4),\n",
        "    Dense(n_classes, activation='softmax')\n",
        "])"
      ]
    },
    {
      "cell_type": "markdown",
      "metadata": {
        "id": "iNMQ__e1tWW0"
      },
      "source": [
        "# **Fine Tuning do modelo**"
      ]
    },
    {
      "cell_type": "markdown",
      "metadata": {
        "id": "vJ8RyfBLvp-9"
      },
      "source": [
        "Foram testadas diferentes quantidades de filtros, camadas `Dropout`, e ajustes na função de ativação, tamanho dos kernels e taxa de aprendizado. O modelo final foi composto por **quatro blocos convolucionais com BatchNormalization, MaxPooling e Dropout**, seguido por camadas densas e softmax na saída."
      ]
    },
    {
      "cell_type": "markdown",
      "metadata": {
        "id": "jZ_9QABrv2ih"
      },
      "source": [
        "Além disso, foi utilizado:\n",
        "- `EarlyStopping`: para interromper o treino ao detectar estagnação.\n",
        "- `ModelCheckpoint`: para salvar automaticamente o melhor modelo com base na acurácia de validação.\n",
        "- `Adam` com **learning rate ajustado (0.0005)** para convergência mais estável."
      ]
    },
    {
      "cell_type": "code",
      "execution_count": 16,
      "metadata": {
        "colab": {
          "base_uri": "https://localhost:8080/",
          "height": 852
        },
        "id": "CjGT10ffv8Td",
        "outputId": "dbb5df87-98b4-4be1-8e57-887494e688e4"
      },
      "outputs": [
        {
          "name": "stdout",
          "output_type": "stream",
          "text": [
            "Model: \"sequential\"\n",
            "_________________________________________________________________\n",
            " Layer (type)                Output Shape              Param #   \n",
            "=================================================================\n",
            " conv2d (Conv2D)             (None, 48, 48, 32)        320       \n",
            "                                                                 \n",
            " batch_normalization (BatchN  (None, 48, 48, 32)       128       \n",
            " ormalization)                                                   \n",
            "                                                                 \n",
            " max_pooling2d (MaxPooling2D  (None, 24, 24, 32)       0         \n",
            " )                                                               \n",
            "                                                                 \n",
            " dropout (Dropout)           (None, 24, 24, 32)        0         \n",
            "                                                                 \n",
            " conv2d_1 (Conv2D)           (None, 24, 24, 64)        18496     \n",
            "                                                                 \n",
            " batch_normalization_1 (Batc  (None, 24, 24, 64)       256       \n",
            " hNormalization)                                                 \n",
            "                                                                 \n",
            " max_pooling2d_1 (MaxPooling  (None, 12, 12, 64)       0         \n",
            " 2D)                                                             \n",
            "                                                                 \n",
            " dropout_1 (Dropout)         (None, 12, 12, 64)        0         \n",
            "                                                                 \n",
            " conv2d_2 (Conv2D)           (None, 12, 12, 128)       73856     \n",
            "                                                                 \n",
            " batch_normalization_2 (Batc  (None, 12, 12, 128)      512       \n",
            " hNormalization)                                                 \n",
            "                                                                 \n",
            " max_pooling2d_2 (MaxPooling  (None, 6, 6, 128)        0         \n",
            " 2D)                                                             \n",
            "                                                                 \n",
            " dropout_2 (Dropout)         (None, 6, 6, 128)         0         \n",
            "                                                                 \n",
            " conv2d_3 (Conv2D)           (None, 6, 6, 256)         295168    \n",
            "                                                                 \n",
            " batch_normalization_3 (Batc  (None, 6, 6, 256)        1024      \n",
            " hNormalization)                                                 \n",
            "                                                                 \n",
            " max_pooling2d_3 (MaxPooling  (None, 3, 3, 256)        0         \n",
            " 2D)                                                             \n",
            "                                                                 \n",
            " dropout_3 (Dropout)         (None, 3, 3, 256)         0         \n",
            "                                                                 \n",
            " flatten (Flatten)           (None, 2304)              0         \n",
            "                                                                 \n",
            " dense (Dense)               (None, 512)               1180160   \n",
            "                                                                 \n",
            " dropout_4 (Dropout)         (None, 512)               0         \n",
            "                                                                 \n",
            " dense_1 (Dense)             (None, 4)                 2052      \n",
            "                                                                 \n",
            "=================================================================\n",
            "Total params: 1,571,972\n",
            "Trainable params: 1,571,012\n",
            "Non-trainable params: 960\n",
            "_________________________________________________________________\n"
          ]
        }
      ],
      "source": [
        "# === Compilação ===\n",
        "optimizer = keras.optimizers.Adam(learning_rate=0.0005)\n",
        "model.compile(optimizer=optimizer,\n",
        "              loss='categorical_crossentropy',\n",
        "              metrics=['accuracy'])\n",
        "\n",
        "model.summary()\n",
        "\n",
        "# === Callbacks ===\n",
        "early_stopping = EarlyStopping(monitor='val_accuracy', patience=6, restore_best_weights=True)\n",
        "checkpoint = ModelCheckpoint('models/best_model.h5', monitor='val_accuracy', save_best_only=True, mode='max')"
      ]
    },
    {
      "cell_type": "markdown",
      "metadata": {
        "id": "qfLllrWNzy05"
      },
      "source": [
        "# **Treinamento do Modelo**"
      ]
    },
    {
      "cell_type": "markdown",
      "metadata": {
        "id": "40c4ICF_z_p9"
      },
      "source": []
    },
    {
      "cell_type": "code",
      "execution_count": 17,
      "metadata": {
        "colab": {
          "base_uri": "https://localhost:8080/",
          "height": 446
        },
        "id": "xfYiVxFNz5oD",
        "outputId": "19fe7bc8-2791-42bf-ac05-dc9b0ddc9949"
      },
      "outputs": [
        {
          "name": "stdout",
          "output_type": "stream",
          "text": [
            "Epoch 1/100\n",
            "442/442 [==============================] - 161s 357ms/step - loss: 1.4724 - accuracy: 0.3150 - val_loss: 1.5717 - val_accuracy: 0.2886\n",
            "Epoch 2/100\n",
            "442/442 [==============================] - 17s 39ms/step - loss: 1.2772 - accuracy: 0.3958 - val_loss: 1.1843 - val_accuracy: 0.4530\n",
            "Epoch 3/100\n",
            "442/442 [==============================] - 17s 39ms/step - loss: 1.1831 - accuracy: 0.4646 - val_loss: 1.1386 - val_accuracy: 0.4981\n",
            "Epoch 4/100\n",
            "442/442 [==============================] - 17s 39ms/step - loss: 1.1064 - accuracy: 0.5058 - val_loss: 0.9796 - val_accuracy: 0.5775\n",
            "Epoch 5/100\n",
            "442/442 [==============================] - 17s 38ms/step - loss: 1.0465 - accuracy: 0.5431 - val_loss: 1.1255 - val_accuracy: 0.5119\n",
            "Epoch 6/100\n",
            "442/442 [==============================] - 17s 39ms/step - loss: 0.9989 - accuracy: 0.5731 - val_loss: 0.9749 - val_accuracy: 0.5996\n",
            "Epoch 7/100\n",
            "442/442 [==============================] - 17s 38ms/step - loss: 0.9563 - accuracy: 0.5972 - val_loss: 0.8559 - val_accuracy: 0.6499\n",
            "Epoch 8/100\n",
            "442/442 [==============================] - 18s 41ms/step - loss: 0.9261 - accuracy: 0.6152 - val_loss: 0.8253 - val_accuracy: 0.6453\n",
            "Epoch 9/100\n",
            "442/442 [==============================] - 17s 39ms/step - loss: 0.9009 - accuracy: 0.6281 - val_loss: 0.7926 - val_accuracy: 0.6821\n",
            "Epoch 10/100\n",
            "442/442 [==============================] - 17s 39ms/step - loss: 0.8732 - accuracy: 0.6458 - val_loss: 0.7636 - val_accuracy: 0.6827\n",
            "Epoch 11/100\n",
            "442/442 [==============================] - 17s 39ms/step - loss: 0.8592 - accuracy: 0.6517 - val_loss: 0.7944 - val_accuracy: 0.6707\n",
            "Epoch 12/100\n",
            "442/442 [==============================] - 17s 39ms/step - loss: 0.8411 - accuracy: 0.6615 - val_loss: 0.7677 - val_accuracy: 0.6915\n",
            "Epoch 13/100\n",
            "442/442 [==============================] - 18s 40ms/step - loss: 0.8314 - accuracy: 0.6709 - val_loss: 0.8354 - val_accuracy: 0.6572\n",
            "Epoch 14/100\n",
            "442/442 [==============================] - 17s 38ms/step - loss: 0.8237 - accuracy: 0.6724 - val_loss: 0.7442 - val_accuracy: 0.7010\n",
            "Epoch 15/100\n",
            "442/442 [==============================] - 17s 39ms/step - loss: 0.8115 - accuracy: 0.6737 - val_loss: 0.7172 - val_accuracy: 0.7210\n",
            "Epoch 16/100\n",
            "442/442 [==============================] - 17s 38ms/step - loss: 0.7987 - accuracy: 0.6806 - val_loss: 0.8558 - val_accuracy: 0.6603\n",
            "Epoch 17/100\n",
            "442/442 [==============================] - 17s 38ms/step - loss: 0.7921 - accuracy: 0.6876 - val_loss: 0.6912 - val_accuracy: 0.7335\n",
            "Epoch 18/100\n",
            "442/442 [==============================] - 18s 40ms/step - loss: 0.7826 - accuracy: 0.6902 - val_loss: 0.6952 - val_accuracy: 0.7249\n",
            "Epoch 19/100\n",
            "442/442 [==============================] - 17s 39ms/step - loss: 0.7813 - accuracy: 0.6937 - val_loss: 0.6957 - val_accuracy: 0.7289\n",
            "Epoch 20/100\n",
            "442/442 [==============================] - 17s 38ms/step - loss: 0.7698 - accuracy: 0.7003 - val_loss: 0.7473 - val_accuracy: 0.7073\n",
            "Epoch 21/100\n",
            "442/442 [==============================] - 17s 38ms/step - loss: 0.7575 - accuracy: 0.6990 - val_loss: 0.7847 - val_accuracy: 0.6902\n",
            "Epoch 22/100\n",
            "442/442 [==============================] - 17s 38ms/step - loss: 0.7567 - accuracy: 0.7022 - val_loss: 0.6995 - val_accuracy: 0.7218\n",
            "Epoch 23/100\n",
            "442/442 [==============================] - 17s 38ms/step - loss: 0.7543 - accuracy: 0.7001 - val_loss: 0.7254 - val_accuracy: 0.7212\n"
          ]
        }
      ],
      "source": [
        "# === Treinamento ===\n",
        "history = model.fit(\n",
        "    train_data,\n",
        "    validation_data=val_data,\n",
        "    epochs=100,\n",
        "    callbacks=[early_stopping, checkpoint],\n",
        "    class_weight=class_weights\n",
        ")"
      ]
    },
    {
      "cell_type": "markdown",
      "metadata": {
        "id": "5_6t_V0Nz_Np"
      },
      "source": []
    },
    {
      "cell_type": "code",
      "execution_count": 18,
      "metadata": {
        "id": "g2Suk3kZz9kN"
      },
      "outputs": [],
      "source": [
        "# === Salvar Modelo ===\n",
        "model.save(\"models/final_model.h5\")"
      ]
    },
    {
      "cell_type": "markdown",
      "metadata": {
        "id": "p1Evo4PmNhBY"
      },
      "source": [
        "# **Avaliação do modelo**\n",
        "\n"
      ]
    },
    {
      "cell_type": "markdown",
      "metadata": {
        "id": "_psReYiKQhKE"
      },
      "source": [
        "\n",
        "<div align=\"justify\">\n",
        "\n",
        "Após o treinamento, o modelo foi avaliado no conjunto de validação. O resultado foi uma acurácia de aproximadamente **74,5%**, o que representa um desempenho bastante satisfatório, considerando a **ausência de técnicas de transfer learning**, a presença de **dados desbalanceados** entre as classes e a **complexidade natural da tarefa de classificação de emoções faciais**.\n",
        "\n",
        "A **curva de acurácia** apresentou crescimento consistente ao longo das épocas, com a acurácia de validação acompanhando de perto a de treinamento, indicando **boa generalização** e **ausência de overfitting significativo**. Já o **gráfico da função de perda (loss)** mostrou uma redução progressiva da perda tanto no conjunto de treinamento quanto no de validação, com pequenas oscilações naturais em razão da variação nos batches. Essa tendência reforça que o modelo foi capaz de aprender os padrões relevantes nas imagens sem memorizar os dados.\n",
        "\n",
        "\n",
        "</div>\n"
      ]
    },
    {
      "cell_type": "code",
      "execution_count": 19,
      "metadata": {
        "id": "QhkxaLgT0Xt9"
      },
      "outputs": [
        {
          "name": "stdout",
          "output_type": "stream",
          "text": [
            "76/76 [==============================] - 2s 30ms/step - loss: 0.6936 - accuracy: 0.7200\n",
            "Acurácia em validação: 0.72\n"
          ]
        },
        {
          "data": {
            "image/png": "[encoded data removed]",
            "text/plain": [
              "<Figure size 1200x500 with 2 Axes>"
            ]
          },
          "metadata": {},
          "output_type": "display_data"
        }
      ],
      "source": [
        "# === Avaliação final ===\n",
        "loss, acc = model.evaluate(val_data)\n",
        "print(f\"Acurácia em validação: {acc:.2f}\")\n",
        "\n",
        "# === Gráficos de desempenho ===\n",
        "plt.figure(figsize=(12, 5))\n",
        "\n",
        "# Acurácia por época\n",
        "plt.subplot(1, 2, 1)\n",
        "plt.plot(history.history['accuracy'], label='Treinamento')\n",
        "plt.plot(history.history['val_accuracy'], label='Validação')\n",
        "plt.title('Acurácia por época')\n",
        "plt.xlabel('Épocas')\n",
        "plt.ylabel('Acurácia')\n",
        "plt.legend()\n",
        "plt.grid(True)\n",
        "\n",
        "# Perda por época\n",
        "plt.subplot(1, 2, 2)\n",
        "plt.plot(history.history['loss'], label='Treinamento')\n",
        "plt.plot(history.history['val_loss'], label='Validação')\n",
        "plt.title('Perda (Loss) por época')\n",
        "plt.xlabel('Épocas')\n",
        "plt.ylabel('Loss')\n",
        "plt.legend()\n",
        "plt.grid(True)\n",
        "\n",
        "plt.tight_layout()\n",
        "plt.show()\n"
      ]
    },
    {
      "cell_type": "markdown",
      "metadata": {
        "id": "vT5zaar97KGV"
      },
      "source": [
        "\n",
        "A **matriz de confusão** revelou que o modelo possui um bom equilíbrio entre as classes, acertando corretamente a maioria das amostras. No entanto, observou-se uma tendência de confusão entre as emoções `sad` e `angry`, o que é esperado dada a similaridade visual de certas expressões faciais nessas categorias. Por outro lado, emoções mais distintas como `happy` e `surprise` apresentaram altas taxas de acerto, refletindo maior separabilidade entre suas representações visuais."
      ]
    },
    {
      "cell_type": "code",
      "execution_count": 20,
      "metadata": {
        "id": "tnNMfhPk78t1"
      },
      "outputs": [
        {
          "name": "stdout",
          "output_type": "stream",
          "text": [
            "76/76 [==============================] - 2s 30ms/step\n"
          ]
        },
        {
          "data": {
            "text/plain": [
              "<Figure size 600x600 with 0 Axes>"
            ]
          },
          "metadata": {},
          "output_type": "display_data"
        },
        {
          "data": {
            "image/png": "[encoded data removed]",
            "text/plain": [
              "<Figure size 640x480 with 2 Axes>"
            ]
          },
          "metadata": {},
          "output_type": "display_data"
        }
      ],
      "source": [
        "# === Matriz de Confusão ===\n",
        "\n",
        "# Rótulos verdadeiros e previstos\n",
        "y_true = val_data.classes\n",
        "y_pred_probs = model.predict(val_data)\n",
        "y_pred = np.argmax(y_pred_probs, axis=1)\n",
        "\n",
        "# Geração e exibição da matriz\n",
        "cm = confusion_matrix(y_true, y_pred)\n",
        "disp = ConfusionMatrixDisplay(confusion_matrix=cm, display_labels=classes_usadas)\n",
        "\n",
        "plt.figure(figsize=(6, 6))\n",
        "disp.plot(cmap='Blues', values_format='d')\n",
        "plt.title(\"Matriz de Confusão - Validação\")\n",
        "plt.grid(False)\n",
        "plt.show()"
      ]
    },
    {
      "cell_type": "markdown",
      "metadata": {
        "id": "Z5yRQVor7MxR"
      },
      "source": [
        "Por fim, a **distribuição das previsões por classe** foi visualmente coerente quando testada em imagens reais, por meio da interface construída com Streamlit, demonstrando a aplicabilidade prática do modelo em um sistema interativo de reconhecimento emocional."
      ]
    },
    {
      "cell_type": "markdown",
      "metadata": {
        "id": "ViQfwNxkNj0C"
      },
      "source": [
        "# **Consumo do modelo**"
      ]
    },
    {
      "cell_type": "markdown",
      "metadata": {
        "id": "dfVtsvqQnaqJ"
      },
      "source": [
        "<p align=\"justify\"> Para o consumo do modelo tivemos, subimos uma aplicação <strong>Streamlit</strong> que permite o usuário fornecer uma imagem, e quando apertado um botão chamado <em>\"Classificar Emoção\"</em>, são demonstrados a emoção reconhecida e uma distribuição de probabilidades."
      ]
    },
    {
      "cell_type": "markdown",
      "metadata": {
        "id": "yrub6bkXwORG"
      },
      "source": [
        "**A aplicação está presente em:** https://face-recognit.streamlit.app/"
      ]
    },
    {
      "cell_type": "markdown",
      "metadata": {
        "id": "7LtXrRFr4hg3"
      },
      "source": [
        "# **Referências**\n",
        "\n",
        "SAMBARE M. **FER-2013.** Disponível em: <https://www.kaggle.com/datasets/msambare/fer2013>. Acesso em: 28 maio 2025.\n",
        "\n",
        "MST. JEBA SHAZIDA. AffectNet. Disponível em: <https://www.kaggle.com/datasets/mstjebashazida/affectnet>. Acesso em: 28 maio 2025.\n",
        "\n",
        "KERAS. **Home - Keras Documentation**. Disponível em: <https://keras.io/>. Acesso em: 28 maio 2025.\n",
        "\n",
        "OPENCV. **OpenCV documentation index.** Disponível em: <https://docs.opencv.org/>. Acesso em: 28 maio 2025.\n",
        "\n",
        "TENSORFLOW. **TensorFlow.** Disponível em: <https://www.tensorflow.org/>. Acesso em: 28 maio 2025.\n",
        "\n",
        "PANDAS. **Pandas.** Disponível em: <https://pandas.pydata.org/>. Acesso em: 28 maio 2025.\n",
        "\n",
        "SCIKIT.**Scikit-learn.** Disponível em: <https://www.scikit-learn.org/>. Acesso em: 28 maio 2025.\n"
      ]
    },
    {
      "cell_type": "markdown",
      "metadata": {
        "id": "8crUBC3IQ3U_"
      },
      "source": [
        "---"
      ]
    },
    {
      "cell_type": "markdown",
      "metadata": {
        "id": "46xyluh0pd7X"
      },
      "source": []
    },
    {
      "cell_type": "code",
      "execution_count": 21,
      "metadata": {
        "cellView": "form",
        "id": "BluFtfHuCGzm"
      },
      "outputs": [],
      "source": [
        "#@title **Avaliação**\n",
        "GitHub = 10 #@param {type:\"slider\", min:0, max:10, step:1}\n",
        "\n",
        "Implementacao_Model_Code = 10 #@param {type:\"slider\", min:0, max:10, step:1}\n",
        "\n",
        "Aplicacao_Streamlit = 10 #@param {type:\"slider\", min:0, max:10, step:1}\n",
        "\n",
        "Texto_Artigo  = 10 #@param {type:\"slider\", min:0, max:10, step:1}\n",
        "\n",
        "Video = 10 #@param {type:\"slider\", min:0, max:10, step:1}\n",
        "\n",
        "Geral = 10 #@param {type:\"slider\", min:0, max:10, step:1}\n",
        "\n",
        "\n",
        "\n",
        "\n",
        "\n",
        "\n"
      ]
    },
    {
      "cell_type": "code",
      "execution_count": 26,
      "metadata": {
        "cellView": "form",
        "id": "2Gqw7hUZHyle"
      },
      "outputs": [
        {
          "name": "stdout",
          "output_type": "stream",
          "text": [
            "Nota final do trabalho 10.0\n",
            "\n"
          ]
        },
        {
          "data": {
            "text/html": [
              "<div>\n",
              "<style scoped>\n",
              "    .dataframe tbody tr th:only-of-type {\n",
              "        vertical-align: middle;\n",
              "    }\n",
              "\n",
              "    .dataframe tbody tr th {\n",
              "        vertical-align: top;\n",
              "    }\n",
              "\n",
              "    .dataframe thead th {\n",
              "        text-align: right;\n",
              "    }\n",
              "</style>\n",
              "<table border=\"1\" class=\"dataframe\">\n",
              "  <thead>\n",
              "    <tr style=\"text-align: right;\">\n",
              "      <th></th>\n",
              "      <th>tia</th>\n",
              "      <th>nome</th>\n",
              "      <th>nota</th>\n",
              "    </tr>\n",
              "  </thead>\n",
              "  <tbody>\n",
              "    <tr>\n",
              "      <th>0</th>\n",
              "      <td>10403025</td>\n",
              "      <td>GABRIEL GONZAGA CHUNG</td>\n",
              "      <td>10.0</td>\n",
              "    </tr>\n",
              "    <tr>\n",
              "      <th>1</th>\n",
              "      <td>10403462</td>\n",
              "      <td>IGOR BENITES MOURA</td>\n",
              "      <td>10.0</td>\n",
              "    </tr>\n",
              "    <tr>\n",
              "      <th>2</th>\n",
              "      <td>10401873</td>\n",
              "      <td>RODRIGO MACHADO DE ASSIS OLIVEIRA DE LIMA</td>\n",
              "      <td>10.0</td>\n",
              "    </tr>\n",
              "  </tbody>\n",
              "</table>\n",
              "</div>"
            ],
            "text/plain": [
              "         tia                                        nome  nota\n",
              "0   10403025                       GABRIEL GONZAGA CHUNG  10.0\n",
              "1   10403462                          IGOR BENITES MOURA  10.0\n",
              "2   10401873   RODRIGO MACHADO DE ASSIS OLIVEIRA DE LIMA  10.0"
            ]
          },
          "metadata": {},
          "output_type": "display_data"
        }
      ],
      "source": [
        "#@title **Nota Final**\n",
        "\n",
        "nota = 2*GitHub + 4*Implementacao_Model_Code + 2*Aplicacao_Streamlit + 1*Texto_Artigo + 1*Video\n",
        "\n",
        "nota = nota / 10\n",
        "\n",
        "print(f'Nota final do trabalho {nota :.1f}')\n",
        "\n",
        "import numpy as np\n",
        "import pandas as pd\n",
        "\n",
        "alunos = pd.DataFrame()\n",
        "\n",
        "lista_tia = []\n",
        "lista_nome = []\n",
        "\n",
        "for i in range(1,6):\n",
        "  exec(\"if Aluno\" + str(i) + \" !='None':  lista = Aluno\" + str(i) + \".split(','); lista_tia.append(lista[0]); lista_nome.append(lista[1].upper())\")\n",
        "\n",
        "alunos['tia'] = lista_tia\n",
        "alunos['nome'] = lista_nome\n",
        "alunos['nota'] = np.round(nota,1)\n",
        "print()\n",
        "display(alunos)"
      ]
    }
  ],
  "metadata": {
    "colab": {
      "provenance": []
    },
    "kernelspec": {
      "display_name": "Python 3",
      "language": "python",
      "name": "python3"
    },
    "language_info": {
      "codemirror_mode": {
        "name": "ipython",
        "version": 3
      },
      "file_extension": ".py",
      "mimetype": "text/x-python",
      "name": "python",
      "nbconvert_exporter": "python",
      "pygments_lexer": "ipython3",
      "version": "3.10.16"
    }
  },
  "nbformat": 4,
  "nbformat_minor": 0
}
